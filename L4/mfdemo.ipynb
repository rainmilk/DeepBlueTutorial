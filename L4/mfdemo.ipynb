{
 "cells": [
  {
   "cell_type": "code",
   "execution_count": null,
   "metadata": {
    "collapsed": true
   },
   "outputs": [],
   "source": [
    "from keras.layers import Input, Embedding, dot, Lambda\n",
    "from keras.models import Model\n",
    "from keras.regularizers import l2\n",
    "import keras.backend as K\n",
    "import numpy as np\n",
    "import pandas as pd\n",
    "\n",
    "\n",
    "# 读入文件\n",
    "df_train = pd.read_csv('ua.base', sep='\\t')\n",
    "df_test = pd.read_csv('ua.test', sep='\\t')\n",
    "\n",
    "user_ids = set(df_train.uid).union(set(df_test.uid))\n",
    "item_ids = set(df_train.mid).union(set(df_test.mid))\n",
    "nb_user = len(user_ids)\n",
    "nb_item = len(item_ids)\n",
    "print('Number of users = %d | Number of movies = %d' % (nb_user, nb_item))\n",
    "\n",
    "u_id2idx = dict(zip(user_ids, range(nb_user)))\n",
    "i_id2idx = dict(zip(item_ids, range(nb_item)))\n",
    "\n",
    "# 替换ID为Index\n",
    "df_train.assign(uid=[u_id2idx[uid] for uid in df_train.uid])\n",
    "df_train.assign(mid=[i_id2idx[iid] for iid in df_train.mid])\n",
    "df_test.assign(uid=[u_id2idx[uid] for uid in df_test.uid])\n",
    "df_test.assign(mid=[i_id2idx[iid] for iid in df_test.mid])"
   ]
  },
  {
   "cell_type": "code",
   "execution_count": null,
   "outputs": [],
   "source": [
    "# 构造MF模型\n",
    "reg = l2(1e-5)\n",
    "nb_latent_factor = 100\n",
    "\n",
    "user_idx = Input(shape=[1], name='user_idx')\n",
    "item_idx = Input(shape=[1], name='item_idx')\n",
    "\n",
    "user_emb = Embedding(input_dim=nb_user, output_dim=nb_latent_factor, input_length=1, embeddings_regularizer=reg, name='user_embedding')\n",
    "item_emb = Embedding(input_dim=nb_item, output_dim=nb_latent_factor, input_length=1, embeddings_regularizer=reg, name='item_embedding')\n",
    "\n",
    "u_lf = user_emb(user_idx)\n",
    "i_lf = item_emb(item_idx)\n",
    "\n",
    "SqueezeEmbed = Lambda(lambda x: K.squeeze(x, 1))\n",
    "u_lf = SqueezeEmbed(u_lf)\n",
    "i_lf = SqueezeEmbed(i_lf)\n",
    "\n",
    "pred_rating = dot([u_lf, i_lf], axes=-1)\n",
    "\n",
    "mf = Model(inputs=[user_idx, item_idx], outputs=pred_rating, name='mf_model')\n",
    "mf.compile(optimizer='adam', loss='mse', metrics=['mse'])\n",
    "mf.summary()"
   ],
   "metadata": {
    "collapsed": false,
    "pycharm": {
     "name": "#%%\n"
    }
   }
  },
  {
   "cell_type": "code",
   "execution_count": null,
   "outputs": [],
   "source": [
    "# 模型训练\n",
    "mf.fit(x=[df_train.uid.values, df_train.mid.values], y=df_train.rating.values, epochs=3, batch_size=64)"
   ],
   "metadata": {
    "collapsed": false,
    "pycharm": {
     "name": "#%%\n"
    }
   }
  },
  {
   "cell_type": "code",
   "execution_count": null,
   "outputs": [],
   "source": [
    "# 模型预测\n",
    "p_ratings = mf.predict(x=[df_test.uid.values, df_test.mid.values])\n",
    "\n",
    "# MAE\n",
    "N = len(p_ratings)\n",
    "MAE = np.sum(np.abs(p_ratings.flatten() - df_test.rating.values)) / N\n",
    "print('MF Model MAE: %g' % MAE)"
   ],
   "metadata": {
    "collapsed": false,
    "pycharm": {
     "name": "#%%\n"
    }
   }
  }
 ],
 "metadata": {
  "kernelspec": {
   "display_name": "Python 3",
   "language": "python",
   "name": "python3"
  },
  "language_info": {
   "codemirror_mode": {
    "name": "ipython",
    "version": 2
   },
   "file_extension": ".py",
   "mimetype": "text/x-python",
   "name": "python",
   "nbconvert_exporter": "python",
   "pygments_lexer": "ipython2",
   "version": "2.7.6"
  }
 },
 "nbformat": 4,
 "nbformat_minor": 0
}