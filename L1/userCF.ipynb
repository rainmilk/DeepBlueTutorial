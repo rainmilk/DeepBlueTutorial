{
 "cells": [
  {
   "cell_type": "code",
   "execution_count": 1,
   "metadata": {
    "collapsed": true,
    "pycharm": {
     "name": "#%%\n"
    }
   },
   "outputs": [],
   "source": [
    "# 基于用户的Collaborative Filtering\n",
    "\n",
    "import numpy as np\n",
    "import pandas as pd\n",
    "import scipy.sparse as sp\n"
   ]
  },
  {
   "cell_type": "code",
   "execution_count": 2,
   "outputs": [
    {
     "name": "stdout",
     "output_type": "stream",
     "text": [
      "Number of users = 943 | Number of movies = 1680\n"
     ]
    }
   ],
   "source": [
    "# 读入文件\n",
    "df_train = pd.read_csv('ua.base', sep='\\t')\n",
    "df_test = pd.read_csv('ua.test', sep='\\t')\n",
    "\n",
    "n_users = df_train.uid.unique().shape[0]\n",
    "n_items = df_train.mid.unique().shape[0]\n",
    "print('Number of users = %d | Number of movies = %d' % (n_users, n_items))"
   ],
   "metadata": {
    "collapsed": false,
    "pycharm": {
     "name": "#%%\n"
    }
   }
  },
  {
   "cell_type": "code",
   "execution_count": 3,
   "outputs": [],
   "source": [
    "# 使用三元组(ratings, (uid, mid))初始化一个稀疏矩阵\n",
    "base_data_matrix = sp.coo_matrix((df_train.rating.values, (df_train.uid.values, df_train.mid.values))).toarray()\n",
    "test_data_matrix = sp.coo_matrix((df_test.rating.values, (df_test.uid.values, df_test.mid.values))).toarray()"
   ],
   "metadata": {
    "collapsed": false,
    "pycharm": {
     "name": "#%%\n"
    }
   }
  },
  {
   "cell_type": "code",
   "execution_count": 4,
   "outputs": [],
   "source": [
    "# 这里需要自行设计，怎么更好计算相似度，思考一下这里可以改进的问题\n",
    "pred_mat = np.zeros_like(test_data_matrix)\n",
    "eps = np.finfo(float).eps\n",
    "for i in df_train.uid.unique():\n",
    "    ln = base_data_matrix[i]\n",
    "    tn = test_data_matrix[i]\n",
    "    # Jaccard相似度，分母加上eps，避免除以0\n",
    "    jaccard = np.sum(np.logical_and(ln, base_data_matrix), axis=1) / (np.sum(np.logical_or(ln, base_data_matrix), axis=1) + eps)\n",
    "    nz = np.nonzero(tn)[0] # 找出要所有预测的items的id\n",
    "    for j in nz:\n",
    "        ref_ratings = base_data_matrix[:, j] # 找出所有对item j所有的ratings\n",
    "        ref_users = np.nonzero(ref_ratings) # 找出对应的user\n",
    "        jc_ref = jaccard[ref_users]  # 找出对应的similarities\n",
    "        njc_ref = jc_ref / (np.sum(jc_ref) + eps)\n",
    "        pred_rating = np.sum(njc_ref * ref_ratings[ref_users]) # 相似度 * 对应的user ratings\n",
    "        pred_mat[i, j] = pred_rating"
   ],
   "metadata": {
    "collapsed": false,
    "pycharm": {
     "name": "#%%\n"
    }
   }
  },
  {
   "cell_type": "code",
   "execution_count": 5,
   "outputs": [
    {
     "name": "stdout",
     "output_type": "stream",
     "text": [
      "User-based CF MAE: 0.948144\n"
     ]
    }
   ],
   "source": [
    "# 计算MAE\n",
    "N = np.count_nonzero(test_data_matrix)\n",
    "MAE = np.sum(np.abs(pred_mat - test_data_matrix)) / N\n",
    "print('User-based CF MAE: %g' % MAE)"
   ],
   "metadata": {
    "collapsed": false,
    "pycharm": {
     "name": "#%%\n"
    }
   }
  }
 ],
 "metadata": {
  "kernelspec": {
   "name": "pycharm-9c78e339",
   "language": "python",
   "display_name": "PyCharm (DeepBlueTutorial)"
  },
  "language_info": {
   "codemirror_mode": {
    "name": "ipython",
    "version": 2
   },
   "file_extension": ".py",
   "mimetype": "text/x-python",
   "name": "python",
   "nbconvert_exporter": "python",
   "pygments_lexer": "ipython2",
   "version": "2.7.6"
  }
 },
 "nbformat": 4,
 "nbformat_minor": 0
}