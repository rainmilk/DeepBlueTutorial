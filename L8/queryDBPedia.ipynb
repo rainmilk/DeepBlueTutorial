{
 "cells": [
  {
   "cell_type": "code",
   "execution_count": null,
   "metadata": {
    "collapsed": true,
    "pycharm": {
     "name": "#%% 使用SPARQL从DBPedia上检索数据\n"
    }
   },
   "outputs": [],
   "source": [
    "import sparql\n",
    "import json\n",
    "import pandas as pd\n"
   ]
  },
  {
   "cell_type": "code",
   "execution_count": null,
   "outputs": [],
   "source": [
    "endpoint = \"http://dbpedia.org/sparql\"\n",
    "s = sparql.Service(endpoint)\n",
    "\n",
    "movielens_tsv = 'MappingMovielens2DBpedia-1.2.tsv'\n",
    "\n",
    "data = pd.read_table(movielens_tsv)\n",
    "maxrow = data.shape[0]\n",
    "print(\"Rows: %d\"%maxrow)"
   ],
   "metadata": {
    "collapsed": false,
    "pycharm": {
     "name": "#%% 打开连接，读入数据\n"
    }
   }
  },
  {
   "cell_type": "code",
   "execution_count": null,
   "outputs": [],
   "source": [
    "dataset = []\n",
    "for i, d in enumerate(data.itertuples(), 1):\n",
    "    q = \"\"\"PREFIX movie:<%s>\n",
    "    select ?director ?writer ?starring\n",
    "     { optional { movie: dbo:director ?director }\n",
    "       optional { movie: dbo:writer ?writer }\n",
    "       optional { movie: dbo:starring ?starring } }\"\"\"%(d.DBpedia_uri)\n",
    "\n",
    "    result = s.query(q)\n",
    "    cast = set()\n",
    "    for row in result:\n",
    "        if row[0]:  # director\n",
    "            cast.add(row[0].value)\n",
    "        if row[1]:  # writer\n",
    "            cast.add(row[1].value)\n",
    "        if row[2]:  # starring\n",
    "            cast.add(row[2].value)\n",
    "\n",
    "    dataset.append({'movie_id': str(d.item_id), 'cast': list(cast)})\n",
    "\n",
    "    print(cast)\n",
    "    print(\"Progress %d/%d\"%(i, maxrow))"
   ],
   "metadata": {
    "collapsed": false,
    "pycharm": {
     "name": "#%% 使用SPARQL检索数据\n"
    }
   }
  },
  {
   "cell_type": "code",
   "execution_count": null,
   "outputs": [],
   "source": [
    "dataset_file = \"movielens_cast.json\"\n",
    "with open(dataset_file, 'w') as jsonfile:\n",
    "    json.dump({'data': dataset}, jsonfile)\n",
    "\n",
    "\n",
    "# Using movielens_cast.json to construct a knowledge graph <movie, cast, person>\n",
    "\n",
    "\n",
    "\n",
    "\n",
    "\n"
   ],
   "metadata": {
    "collapsed": false,
    "pycharm": {
     "name": "#%% 保存数据\n"
    }
   }
  }
 ],
 "metadata": {
  "kernelspec": {
   "display_name": "Python 3",
   "language": "python",
   "name": "python3"
  },
  "language_info": {
   "codemirror_mode": {
    "name": "ipython",
    "version": 2
   },
   "file_extension": ".py",
   "mimetype": "text/x-python",
   "name": "python",
   "nbconvert_exporter": "python",
   "pygments_lexer": "ipython2",
   "version": "2.7.6"
  }
 },
 "nbformat": 4,
 "nbformat_minor": 0
}