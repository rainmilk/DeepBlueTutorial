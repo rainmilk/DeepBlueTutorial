{
 "cells": [
  {
   "cell_type": "code",
   "execution_count": null,
   "metadata": {
    "collapsed": true
   },
   "outputs": [],
   "source": [
    "from neural_mf import NeuMF_V1, NeuMF_V2"
   ]
  },
  {
   "cell_type": "code",
   "execution_count": null,
   "outputs": [],
   "source": [
    "neu_mf_v1 = NeuMF_V1(nb_mv=1000, nb_mv_feature=2, nb_user=2000, nb_age_grp=5, model_name='neuMF_V1')\n",
    "neu_mf_v1.model.compile(optimizer='adam', loss='mse')\n",
    "neu_mf_v1.model.summary()"
   ],
   "metadata": {
    "collapsed": false,
    "pycharm": {
     "name": "#%%\n"
    }
   }
  },
  {
   "cell_type": "code",
   "execution_count": null,
   "outputs": [],
   "source": [
    "neu_mf_v2 = NeuMF_V2(nb_mv=1000, nb_mv_feature=2, nb_user=2000, nb_age_grp=5, model_name='neuMF_V1')\n",
    "neu_mf_v2.model.compile(optimizer='adam', loss='mse')\n",
    "neu_mf_v2.model.summary()"
   ],
   "metadata": {
    "collapsed": false,
    "pycharm": {
     "name": "#%%\n"
    }
   }
  }
 ],
 "metadata": {
  "kernelspec": {
   "display_name": "Python 3",
   "language": "python",
   "name": "python3"
  },
  "language_info": {
   "codemirror_mode": {
    "name": "ipython",
    "version": 2
   },
   "file_extension": ".py",
   "mimetype": "text/x-python",
   "name": "python",
   "nbconvert_exporter": "python",
   "pygments_lexer": "ipython2",
   "version": "2.7.6"
  }
 },
 "nbformat": 4,
 "nbformat_minor": 0
}